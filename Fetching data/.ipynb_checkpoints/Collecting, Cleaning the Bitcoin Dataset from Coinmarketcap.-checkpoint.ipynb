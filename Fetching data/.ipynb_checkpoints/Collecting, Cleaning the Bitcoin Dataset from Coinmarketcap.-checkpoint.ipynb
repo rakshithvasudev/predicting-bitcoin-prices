{
 "cells": [
  {
   "cell_type": "markdown",
   "metadata": {},
   "source": [
    "## Importing the libraries required."
   ]
  },
  {
   "cell_type": "code",
   "execution_count": 49,
   "metadata": {
    "collapsed": true
   },
   "outputs": [],
   "source": [
    "import pandas as pd\n",
    "import matplotlib.pyplot as plt\n",
    "import seaborn as sns\n",
    "%matplotlib inline"
   ]
  },
  {
   "cell_type": "markdown",
   "metadata": {},
   "source": [
    "# Assigning the right column names and read into the DataFrame."
   ]
  },
  {
   "cell_type": "code",
   "execution_count": 50,
   "metadata": {
    "scrolled": true
   },
   "outputs": [
    {
     "data": {
      "text/html": [
       "<div>\n",
       "<style scoped>\n",
       "    .dataframe tbody tr th:only-of-type {\n",
       "        vertical-align: middle;\n",
       "    }\n",
       "\n",
       "    .dataframe tbody tr th {\n",
       "        vertical-align: top;\n",
       "    }\n",
       "\n",
       "    .dataframe thead th {\n",
       "        text-align: right;\n",
       "    }\n",
       "</style>\n",
       "<table border=\"1\" class=\"dataframe\">\n",
       "  <thead>\n",
       "    <tr style=\"text-align: right;\">\n",
       "      <th></th>\n",
       "      <th>Open</th>\n",
       "      <th>High</th>\n",
       "      <th>Low</th>\n",
       "      <th>Close</th>\n",
       "      <th>Volume</th>\n",
       "      <th>Market Cap</th>\n",
       "    </tr>\n",
       "  </thead>\n",
       "  <tbody>\n",
       "    <tr>\n",
       "      <th>Date</th>\n",
       "      <td>Open</td>\n",
       "      <td>High</td>\n",
       "      <td>Low</td>\n",
       "      <td>Close</td>\n",
       "      <td>Volume</td>\n",
       "      <td>Market Cap</td>\n",
       "    </tr>\n",
       "    <tr>\n",
       "      <th>Jun 22, 2018</th>\n",
       "      <td>6,737.88</td>\n",
       "      <td>6,747.08</td>\n",
       "      <td>6,006.60</td>\n",
       "      <td>6,083.69</td>\n",
       "      <td>5,079,810,000</td>\n",
       "      <td>115,269,000,000</td>\n",
       "    </tr>\n",
       "    <tr>\n",
       "      <th>Jun 21, 2018</th>\n",
       "      <td>6,780.09</td>\n",
       "      <td>6,810.94</td>\n",
       "      <td>6,715.17</td>\n",
       "      <td>6,729.74</td>\n",
       "      <td>3,529,130,000</td>\n",
       "      <td>115,977,000,000</td>\n",
       "    </tr>\n",
       "    <tr>\n",
       "      <th>Jun 20, 2018</th>\n",
       "      <td>6,770.76</td>\n",
       "      <td>6,821.56</td>\n",
       "      <td>6,611.88</td>\n",
       "      <td>6,776.55</td>\n",
       "      <td>3,888,640,000</td>\n",
       "      <td>115,804,000,000</td>\n",
       "    </tr>\n",
       "    <tr>\n",
       "      <th>Jun 19, 2018</th>\n",
       "      <td>6,742.39</td>\n",
       "      <td>6,822.50</td>\n",
       "      <td>6,709.92</td>\n",
       "      <td>6,769.94</td>\n",
       "      <td>4,057,030,000</td>\n",
       "      <td>115,306,000,000</td>\n",
       "    </tr>\n",
       "  </tbody>\n",
       "</table>\n",
       "</div>"
      ],
      "text/plain": [
       "                             Open            High            Low  \\\n",
       "Date                         Open            High            Low   \n",
       "Jun 22, 2018             6,737.88        6,747.08       6,006.60   \n",
       "Jun 21, 2018             6,780.09        6,810.94       6,715.17   \n",
       "Jun 20, 2018             6,770.76        6,821.56       6,611.88   \n",
       "Jun 19, 2018             6,742.39        6,822.50       6,709.92   \n",
       "\n",
       "                       Close              Volume               Market Cap  \n",
       "Date                   Close              Volume               Market Cap  \n",
       "Jun 22, 2018        6,083.69       5,079,810,000          115,269,000,000  \n",
       "Jun 21, 2018        6,729.74       3,529,130,000          115,977,000,000  \n",
       "Jun 20, 2018        6,776.55       3,888,640,000          115,804,000,000  \n",
       "Jun 19, 2018        6,769.94       4,057,030,000          115,306,000,000  "
      ]
     },
     "execution_count": 50,
     "metadata": {},
     "output_type": "execute_result"
    }
   ],
   "source": [
    "df = pd.read_csv(\"dataset.csv\", delimiter='^', index_col=0, names=['Open','High','Low','Close','Volume','Market Cap'])\n",
    "df.head()"
   ]
  },
  {
   "cell_type": "markdown",
   "metadata": {},
   "source": [
    "### Looks like theres's unwanted row at the top!"
   ]
  },
  {
   "cell_type": "markdown",
   "metadata": {},
   "source": [
    "## Delete the first unwanted row"
   ]
  },
  {
   "cell_type": "code",
   "execution_count": 51,
   "metadata": {},
   "outputs": [
    {
     "data": {
      "text/html": [
       "<div>\n",
       "<style scoped>\n",
       "    .dataframe tbody tr th:only-of-type {\n",
       "        vertical-align: middle;\n",
       "    }\n",
       "\n",
       "    .dataframe tbody tr th {\n",
       "        vertical-align: top;\n",
       "    }\n",
       "\n",
       "    .dataframe thead th {\n",
       "        text-align: right;\n",
       "    }\n",
       "</style>\n",
       "<table border=\"1\" class=\"dataframe\">\n",
       "  <thead>\n",
       "    <tr style=\"text-align: right;\">\n",
       "      <th></th>\n",
       "      <th>Open</th>\n",
       "      <th>High</th>\n",
       "      <th>Low</th>\n",
       "      <th>Close</th>\n",
       "      <th>Volume</th>\n",
       "      <th>Market Cap</th>\n",
       "    </tr>\n",
       "  </thead>\n",
       "  <tbody>\n",
       "    <tr>\n",
       "      <th>Jun 22, 2018</th>\n",
       "      <td>6,737.88</td>\n",
       "      <td>6,747.08</td>\n",
       "      <td>6,006.60</td>\n",
       "      <td>6,083.69</td>\n",
       "      <td>5,079,810,000</td>\n",
       "      <td>115,269,000,000</td>\n",
       "    </tr>\n",
       "    <tr>\n",
       "      <th>Jun 21, 2018</th>\n",
       "      <td>6,780.09</td>\n",
       "      <td>6,810.94</td>\n",
       "      <td>6,715.17</td>\n",
       "      <td>6,729.74</td>\n",
       "      <td>3,529,130,000</td>\n",
       "      <td>115,977,000,000</td>\n",
       "    </tr>\n",
       "    <tr>\n",
       "      <th>Jun 20, 2018</th>\n",
       "      <td>6,770.76</td>\n",
       "      <td>6,821.56</td>\n",
       "      <td>6,611.88</td>\n",
       "      <td>6,776.55</td>\n",
       "      <td>3,888,640,000</td>\n",
       "      <td>115,804,000,000</td>\n",
       "    </tr>\n",
       "    <tr>\n",
       "      <th>Jun 19, 2018</th>\n",
       "      <td>6,742.39</td>\n",
       "      <td>6,822.50</td>\n",
       "      <td>6,709.92</td>\n",
       "      <td>6,769.94</td>\n",
       "      <td>4,057,030,000</td>\n",
       "      <td>115,306,000,000</td>\n",
       "    </tr>\n",
       "    <tr>\n",
       "      <th>Jun 18, 2018</th>\n",
       "      <td>6,510.07</td>\n",
       "      <td>6,781.14</td>\n",
       "      <td>6,446.68</td>\n",
       "      <td>6,734.82</td>\n",
       "      <td>4,039,200,000</td>\n",
       "      <td>111,319,000,000</td>\n",
       "    </tr>\n",
       "  </tbody>\n",
       "</table>\n",
       "</div>"
      ],
      "text/plain": [
       "                       Open           High            Low          Close  \\\n",
       "Jun 22, 2018       6,737.88       6,747.08       6,006.60       6,083.69   \n",
       "Jun 21, 2018       6,780.09       6,810.94       6,715.17       6,729.74   \n",
       "Jun 20, 2018       6,770.76       6,821.56       6,611.88       6,776.55   \n",
       "Jun 19, 2018       6,742.39       6,822.50       6,709.92       6,769.94   \n",
       "Jun 18, 2018       6,510.07       6,781.14       6,446.68       6,734.82   \n",
       "\n",
       "                          Volume            Market Cap  \n",
       "Jun 22, 2018       5,079,810,000       115,269,000,000  \n",
       "Jun 21, 2018       3,529,130,000       115,977,000,000  \n",
       "Jun 20, 2018       3,888,640,000       115,804,000,000  \n",
       "Jun 19, 2018       4,057,030,000       115,306,000,000  \n",
       "Jun 18, 2018       4,039,200,000       111,319,000,000  "
      ]
     },
     "execution_count": 51,
     "metadata": {},
     "output_type": "execute_result"
    }
   ],
   "source": [
    "df = df.iloc[1:,:]\n",
    "df.head()"
   ]
  },
  {
   "cell_type": "markdown",
   "metadata": {},
   "source": [
    "### Check for correct column names to see if they're without any extra spaces."
   ]
  },
  {
   "cell_type": "code",
   "execution_count": 47,
   "metadata": {},
   "outputs": [
    {
     "data": {
      "text/plain": [
       "Index(['Open', 'High', 'Low', 'Close', 'Volume', 'Market Cap'], dtype='object')"
      ]
     },
     "execution_count": 47,
     "metadata": {},
     "output_type": "execute_result"
    }
   ],
   "source": [
    "df.columns"
   ]
  },
  {
   "cell_type": "markdown",
   "metadata": {},
   "source": [
    "## Convert the text datetime into actual datetime object, which inturn becomes a datetimeindex. This enables to operate the entire row using the index."
   ]
  },
  {
   "cell_type": "code",
   "execution_count": 52,
   "metadata": {
    "collapsed": true
   },
   "outputs": [],
   "source": [
    "df.index = pd.to_datetime(df.index)"
   ]
  },
  {
   "cell_type": "code",
   "execution_count": 5,
   "metadata": {},
   "outputs": [
    {
     "data": {
      "text/html": [
       "<div>\n",
       "<style scoped>\n",
       "    .dataframe tbody tr th:only-of-type {\n",
       "        vertical-align: middle;\n",
       "    }\n",
       "\n",
       "    .dataframe tbody tr th {\n",
       "        vertical-align: top;\n",
       "    }\n",
       "\n",
       "    .dataframe thead th {\n",
       "        text-align: right;\n",
       "    }\n",
       "</style>\n",
       "<table border=\"1\" class=\"dataframe\">\n",
       "  <thead>\n",
       "    <tr style=\"text-align: right;\">\n",
       "      <th></th>\n",
       "      <th>Open</th>\n",
       "      <th>High</th>\n",
       "      <th>Low</th>\n",
       "      <th>Close</th>\n",
       "      <th>Volume</th>\n",
       "      <th>Market Cap</th>\n",
       "    </tr>\n",
       "    <tr>\n",
       "      <th>Date</th>\n",
       "      <th></th>\n",
       "      <th></th>\n",
       "      <th></th>\n",
       "      <th></th>\n",
       "      <th></th>\n",
       "      <th></th>\n",
       "    </tr>\n",
       "  </thead>\n",
       "  <tbody>\n",
       "    <tr>\n",
       "      <th>2018-06-22</th>\n",
       "      <td>6,737.88</td>\n",
       "      <td>6,747.08</td>\n",
       "      <td>6,006.60</td>\n",
       "      <td>6,083.69</td>\n",
       "      <td>5,079,810,000</td>\n",
       "      <td>115,269,000,000</td>\n",
       "    </tr>\n",
       "    <tr>\n",
       "      <th>2018-06-21</th>\n",
       "      <td>6,780.09</td>\n",
       "      <td>6,810.94</td>\n",
       "      <td>6,715.17</td>\n",
       "      <td>6,729.74</td>\n",
       "      <td>3,529,130,000</td>\n",
       "      <td>115,977,000,000</td>\n",
       "    </tr>\n",
       "    <tr>\n",
       "      <th>2018-06-20</th>\n",
       "      <td>6,770.76</td>\n",
       "      <td>6,821.56</td>\n",
       "      <td>6,611.88</td>\n",
       "      <td>6,776.55</td>\n",
       "      <td>3,888,640,000</td>\n",
       "      <td>115,804,000,000</td>\n",
       "    </tr>\n",
       "    <tr>\n",
       "      <th>2018-06-19</th>\n",
       "      <td>6,742.39</td>\n",
       "      <td>6,822.50</td>\n",
       "      <td>6,709.92</td>\n",
       "      <td>6,769.94</td>\n",
       "      <td>4,057,030,000</td>\n",
       "      <td>115,306,000,000</td>\n",
       "    </tr>\n",
       "    <tr>\n",
       "      <th>2018-06-18</th>\n",
       "      <td>6,510.07</td>\n",
       "      <td>6,781.14</td>\n",
       "      <td>6,446.68</td>\n",
       "      <td>6,734.82</td>\n",
       "      <td>4,039,200,000</td>\n",
       "      <td>111,319,000,000</td>\n",
       "    </tr>\n",
       "  </tbody>\n",
       "</table>\n",
       "</div>"
      ],
      "text/plain": [
       "                          Open           High            Low          Close  \\\n",
       "Date                                                                          \n",
       "2018-06-22            6,737.88       6,747.08       6,006.60       6,083.69   \n",
       "2018-06-21            6,780.09       6,810.94       6,715.17       6,729.74   \n",
       "2018-06-20            6,770.76       6,821.56       6,611.88       6,776.55   \n",
       "2018-06-19            6,742.39       6,822.50       6,709.92       6,769.94   \n",
       "2018-06-18            6,510.07       6,781.14       6,446.68       6,734.82   \n",
       "\n",
       "                        Volume              Market Cap  \n",
       "Date                                                    \n",
       "2018-06-22       5,079,810,000         115,269,000,000  \n",
       "2018-06-21       3,529,130,000         115,977,000,000  \n",
       "2018-06-20       3,888,640,000         115,804,000,000  \n",
       "2018-06-19       4,057,030,000         115,306,000,000  \n",
       "2018-06-18       4,039,200,000         111,319,000,000  "
      ]
     },
     "execution_count": 5,
     "metadata": {},
     "output_type": "execute_result"
    }
   ],
   "source": [
    "df.head()"
   ]
  },
  {
   "cell_type": "markdown",
   "metadata": {},
   "source": [
    "## Try accessing a row using its date. "
   ]
  },
  {
   "cell_type": "code",
   "execution_count": 6,
   "metadata": {},
   "outputs": [
    {
     "data": {
      "text/html": [
       "<div>\n",
       "<style scoped>\n",
       "    .dataframe tbody tr th:only-of-type {\n",
       "        vertical-align: middle;\n",
       "    }\n",
       "\n",
       "    .dataframe tbody tr th {\n",
       "        vertical-align: top;\n",
       "    }\n",
       "\n",
       "    .dataframe thead th {\n",
       "        text-align: right;\n",
       "    }\n",
       "</style>\n",
       "<table border=\"1\" class=\"dataframe\">\n",
       "  <thead>\n",
       "    <tr style=\"text-align: right;\">\n",
       "      <th></th>\n",
       "      <th>Open</th>\n",
       "      <th>High</th>\n",
       "      <th>Low</th>\n",
       "      <th>Close</th>\n",
       "      <th>Volume</th>\n",
       "      <th>Market Cap</th>\n",
       "    </tr>\n",
       "    <tr>\n",
       "      <th>Date</th>\n",
       "      <th></th>\n",
       "      <th></th>\n",
       "      <th></th>\n",
       "      <th></th>\n",
       "      <th></th>\n",
       "      <th></th>\n",
       "    </tr>\n",
       "  </thead>\n",
       "  <tbody>\n",
       "    <tr>\n",
       "      <th>2018-06-22</th>\n",
       "      <td>6,737.88</td>\n",
       "      <td>6,747.08</td>\n",
       "      <td>6,006.60</td>\n",
       "      <td>6,083.69</td>\n",
       "      <td>5,079,810,000</td>\n",
       "      <td>115,269,000,000</td>\n",
       "    </tr>\n",
       "  </tbody>\n",
       "</table>\n",
       "</div>"
      ],
      "text/plain": [
       "                          Open           High            Low          Close  \\\n",
       "Date                                                                          \n",
       "2018-06-22            6,737.88       6,747.08       6,006.60       6,083.69   \n",
       "\n",
       "                        Volume              Market Cap  \n",
       "Date                                                    \n",
       "2018-06-22       5,079,810,000         115,269,000,000  "
      ]
     },
     "execution_count": 6,
     "metadata": {},
     "output_type": "execute_result"
    }
   ],
   "source": [
    "df['2018-06-22']"
   ]
  },
  {
   "cell_type": "markdown",
   "metadata": {},
   "source": [
    "## Look at the index contents, just to ensure everything is fine."
   ]
  },
  {
   "cell_type": "code",
   "execution_count": 53,
   "metadata": {},
   "outputs": [
    {
     "data": {
      "text/plain": [
       "DatetimeIndex(['2018-06-22', '2018-06-21', '2018-06-20', '2018-06-19',\n",
       "               '2018-06-18', '2018-06-17', '2018-06-16', '2018-06-15',\n",
       "               '2018-06-14', '2018-06-13',\n",
       "               ...\n",
       "               '2013-05-07', '2013-05-06', '2013-05-05', '2013-05-04',\n",
       "               '2013-05-03', '2013-05-02', '2013-05-01', '2013-04-30',\n",
       "               '2013-04-29', '2013-04-28'],\n",
       "              dtype='datetime64[ns]', length=1882, freq=None)"
      ]
     },
     "execution_count": 53,
     "metadata": {},
     "output_type": "execute_result"
    }
   ],
   "source": [
    "df.index"
   ]
  },
  {
   "cell_type": "code",
   "execution_count": 54,
   "metadata": {},
   "outputs": [
    {
     "data": {
      "text/plain": [
       "Index(['Open', 'High', 'Low', 'Close', 'Volume', 'Market Cap'], dtype='object')"
      ]
     },
     "execution_count": 54,
     "metadata": {},
     "output_type": "execute_result"
    }
   ],
   "source": [
    "df.columns"
   ]
  },
  {
   "cell_type": "markdown",
   "metadata": {},
   "source": [
    "## Looks like dataset is going from latest to old."
   ]
  },
  {
   "cell_type": "code",
   "execution_count": 63,
   "metadata": {},
   "outputs": [
    {
     "data": {
      "text/plain": [
       "DatetimeIndex(['2018-06-22', '2018-06-21', '2018-06-20', '2018-06-19',\n",
       "               '2018-06-18', '2018-06-17', '2018-06-16', '2018-06-15',\n",
       "               '2018-06-14', '2018-06-13',\n",
       "               ...\n",
       "               '2013-05-07', '2013-05-06', '2013-05-05', '2013-05-04',\n",
       "               '2013-05-03', '2013-05-02', '2013-05-01', '2013-04-30',\n",
       "               '2013-04-29', '2013-04-28'],\n",
       "              dtype='datetime64[ns]', length=1882, freq=None)"
      ]
     },
     "execution_count": 63,
     "metadata": {},
     "output_type": "execute_result"
    }
   ],
   "source": [
    "df.index"
   ]
  },
  {
   "cell_type": "markdown",
   "metadata": {},
   "source": [
    "### it is supposed to be going from old to new dates."
   ]
  },
  {
   "cell_type": "markdown",
   "metadata": {},
   "source": [
    "#### Sort on the date index."
   ]
  },
  {
   "cell_type": "code",
   "execution_count": 72,
   "metadata": {},
   "outputs": [
    {
     "data": {
      "text/html": [
       "<div>\n",
       "<style scoped>\n",
       "    .dataframe tbody tr th:only-of-type {\n",
       "        vertical-align: middle;\n",
       "    }\n",
       "\n",
       "    .dataframe tbody tr th {\n",
       "        vertical-align: top;\n",
       "    }\n",
       "\n",
       "    .dataframe thead th {\n",
       "        text-align: right;\n",
       "    }\n",
       "</style>\n",
       "<table border=\"1\" class=\"dataframe\">\n",
       "  <thead>\n",
       "    <tr style=\"text-align: right;\">\n",
       "      <th></th>\n",
       "      <th>Open</th>\n",
       "      <th>High</th>\n",
       "      <th>Low</th>\n",
       "      <th>Close</th>\n",
       "      <th>Volume</th>\n",
       "      <th>Market Cap</th>\n",
       "    </tr>\n",
       "  </thead>\n",
       "  <tbody>\n",
       "    <tr>\n",
       "      <th>2013-04-28</th>\n",
       "      <td>135.30</td>\n",
       "      <td>135.98</td>\n",
       "      <td>132.10</td>\n",
       "      <td>134.21</td>\n",
       "      <td>-</td>\n",
       "      <td>1,500,520,000</td>\n",
       "    </tr>\n",
       "    <tr>\n",
       "      <th>2013-04-29</th>\n",
       "      <td>134.44</td>\n",
       "      <td>147.49</td>\n",
       "      <td>134.00</td>\n",
       "      <td>144.54</td>\n",
       "      <td>-</td>\n",
       "      <td>1,491,160,000</td>\n",
       "    </tr>\n",
       "    <tr>\n",
       "      <th>2013-04-30</th>\n",
       "      <td>144.00</td>\n",
       "      <td>146.93</td>\n",
       "      <td>134.05</td>\n",
       "      <td>139.00</td>\n",
       "      <td>-</td>\n",
       "      <td>1,597,780,000</td>\n",
       "    </tr>\n",
       "    <tr>\n",
       "      <th>2013-05-01</th>\n",
       "      <td>139.00</td>\n",
       "      <td>139.89</td>\n",
       "      <td>107.72</td>\n",
       "      <td>116.99</td>\n",
       "      <td>-</td>\n",
       "      <td>1,542,820,000</td>\n",
       "    </tr>\n",
       "    <tr>\n",
       "      <th>2013-05-02</th>\n",
       "      <td>116.38</td>\n",
       "      <td>125.60</td>\n",
       "      <td>92.28</td>\n",
       "      <td>105.21</td>\n",
       "      <td>-</td>\n",
       "      <td>1,292,190,000</td>\n",
       "    </tr>\n",
       "  </tbody>\n",
       "</table>\n",
       "</div>"
      ],
      "text/plain": [
       "                   Open         High          Low        Close  Volume  \\\n",
       "2013-04-28       135.30       135.98       132.10       134.21       -   \n",
       "2013-04-29       134.44       147.49       134.00       144.54       -   \n",
       "2013-04-30       144.00       146.93       134.05       139.00       -   \n",
       "2013-05-01       139.00       139.89       107.72       116.99       -   \n",
       "2013-05-02       116.38       125.60        92.28       105.21       -   \n",
       "\n",
       "                    Market Cap  \n",
       "2013-04-28       1,500,520,000  \n",
       "2013-04-29       1,491,160,000  \n",
       "2013-04-30       1,597,780,000  \n",
       "2013-05-01       1,542,820,000  \n",
       "2013-05-02       1,292,190,000  "
      ]
     },
     "execution_count": 72,
     "metadata": {},
     "output_type": "execute_result"
    }
   ],
   "source": [
    "df = df.sort_index()\n",
    "df.head()"
   ]
  },
  {
   "cell_type": "markdown",
   "metadata": {},
   "source": [
    "## Start checking every column"
   ]
  },
  {
   "cell_type": "code",
   "execution_count": 82,
   "metadata": {},
   "outputs": [
    {
     "data": {
      "text/plain": [
       "array(['     135.30'], dtype=object)"
      ]
     },
     "execution_count": 82,
     "metadata": {},
     "output_type": "execute_result"
    }
   ],
   "source": [
    "df.iloc[:,:1].values[0]"
   ]
  },
  {
   "cell_type": "code",
   "execution_count": null,
   "metadata": {
    "collapsed": true
   },
   "outputs": [],
   "source": []
  },
  {
   "cell_type": "code",
   "execution_count": null,
   "metadata": {
    "collapsed": true
   },
   "outputs": [],
   "source": []
  },
  {
   "cell_type": "code",
   "execution_count": null,
   "metadata": {},
   "outputs": [],
   "source": []
  },
  {
   "cell_type": "code",
   "execution_count": null,
   "metadata": {},
   "outputs": [],
   "source": []
  },
  {
   "cell_type": "code",
   "execution_count": null,
   "metadata": {},
   "outputs": [],
   "source": []
  },
  {
   "cell_type": "code",
   "execution_count": null,
   "metadata": {
    "collapsed": true
   },
   "outputs": [],
   "source": []
  }
 ],
 "metadata": {
  "kernelspec": {
   "display_name": "Python 3",
   "language": "python",
   "name": "python3"
  },
  "language_info": {
   "codemirror_mode": {
    "name": "ipython",
    "version": 3
   },
   "file_extension": ".py",
   "mimetype": "text/x-python",
   "name": "python",
   "nbconvert_exporter": "python",
   "pygments_lexer": "ipython3",
   "version": "3.6.1"
  }
 },
 "nbformat": 4,
 "nbformat_minor": 2
}
