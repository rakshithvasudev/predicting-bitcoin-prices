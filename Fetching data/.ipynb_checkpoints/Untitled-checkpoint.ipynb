{
 "cells": [
  {
   "cell_type": "code",
   "execution_count": 1,
   "metadata": {
    "collapsed": true
   },
   "outputs": [],
   "source": [
    "import pandas as pd"
   ]
  },
  {
   "cell_type": "code",
   "execution_count": 10,
   "metadata": {
    "scrolled": true
   },
   "outputs": [
    {
     "data": {
      "text/html": [
       "<div>\n",
       "<style scoped>\n",
       "    .dataframe tbody tr th:only-of-type {\n",
       "        vertical-align: middle;\n",
       "    }\n",
       "\n",
       "    .dataframe tbody tr th {\n",
       "        vertical-align: top;\n",
       "    }\n",
       "\n",
       "    .dataframe thead th {\n",
       "        text-align: right;\n",
       "    }\n",
       "</style>\n",
       "<table border=\"1\" class=\"dataframe\">\n",
       "  <thead>\n",
       "    <tr style=\"text-align: right;\">\n",
       "      <th></th>\n",
       "      <th>Open</th>\n",
       "      <th>High</th>\n",
       "      <th>Low</th>\n",
       "      <th>Close</th>\n",
       "      <th>Volume</th>\n",
       "      <th>Market Cap</th>\n",
       "    </tr>\n",
       "    <tr>\n",
       "      <th>Date</th>\n",
       "      <th></th>\n",
       "      <th></th>\n",
       "      <th></th>\n",
       "      <th></th>\n",
       "      <th></th>\n",
       "      <th></th>\n",
       "    </tr>\n",
       "  </thead>\n",
       "  <tbody>\n",
       "    <tr>\n",
       "      <th>Jun 22, 2018</th>\n",
       "      <td>6,737.88</td>\n",
       "      <td>6,747.08</td>\n",
       "      <td>6,006.60</td>\n",
       "      <td>6,083.69</td>\n",
       "      <td>5,079,810,000</td>\n",
       "      <td>115,269,000,000</td>\n",
       "    </tr>\n",
       "    <tr>\n",
       "      <th>Jun 21, 2018</th>\n",
       "      <td>6,780.09</td>\n",
       "      <td>6,810.94</td>\n",
       "      <td>6,715.17</td>\n",
       "      <td>6,729.74</td>\n",
       "      <td>3,529,130,000</td>\n",
       "      <td>115,977,000,000</td>\n",
       "    </tr>\n",
       "    <tr>\n",
       "      <th>Jun 20, 2018</th>\n",
       "      <td>6,770.76</td>\n",
       "      <td>6,821.56</td>\n",
       "      <td>6,611.88</td>\n",
       "      <td>6,776.55</td>\n",
       "      <td>3,888,640,000</td>\n",
       "      <td>115,804,000,000</td>\n",
       "    </tr>\n",
       "    <tr>\n",
       "      <th>Jun 19, 2018</th>\n",
       "      <td>6,742.39</td>\n",
       "      <td>6,822.50</td>\n",
       "      <td>6,709.92</td>\n",
       "      <td>6,769.94</td>\n",
       "      <td>4,057,030,000</td>\n",
       "      <td>115,306,000,000</td>\n",
       "    </tr>\n",
       "    <tr>\n",
       "      <th>Jun 18, 2018</th>\n",
       "      <td>6,510.07</td>\n",
       "      <td>6,781.14</td>\n",
       "      <td>6,446.68</td>\n",
       "      <td>6,734.82</td>\n",
       "      <td>4,039,200,000</td>\n",
       "      <td>111,319,000,000</td>\n",
       "    </tr>\n",
       "  </tbody>\n",
       "</table>\n",
       "</div>"
      ],
      "text/plain": [
       "                            Open           High            Low          Close  \\\n",
       "Date                                                                            \n",
       "Jun 22, 2018            6,737.88       6,747.08       6,006.60       6,083.69   \n",
       "Jun 21, 2018            6,780.09       6,810.94       6,715.17       6,729.74   \n",
       "Jun 20, 2018            6,770.76       6,821.56       6,611.88       6,776.55   \n",
       "Jun 19, 2018            6,742.39       6,822.50       6,709.92       6,769.94   \n",
       "Jun 18, 2018            6,510.07       6,781.14       6,446.68       6,734.82   \n",
       "\n",
       "                          Volume              Market Cap  \n",
       "Date                                                      \n",
       "Jun 22, 2018       5,079,810,000         115,269,000,000  \n",
       "Jun 21, 2018       3,529,130,000         115,977,000,000  \n",
       "Jun 20, 2018       3,888,640,000         115,804,000,000  \n",
       "Jun 19, 2018       4,057,030,000         115,306,000,000  \n",
       "Jun 18, 2018       4,039,200,000         111,319,000,000  "
      ]
     },
     "execution_count": 10,
     "metadata": {},
     "output_type": "execute_result"
    }
   ],
   "source": [
    "df = pd.read_csv(\"dataset.csv\",delimiter='^',index_col=0)\n",
    "df.head()"
   ]
  },
  {
   "cell_type": "code",
   "execution_count": 15,
   "metadata": {},
   "outputs": [
    {
     "data": {
      "text/plain": [
       "Index(['Jun 22, 2018', 'Jun 21, 2018', 'Jun 20, 2018', 'Jun 19, 2018',\n",
       "       'Jun 18, 2018', 'Jun 17, 2018', 'Jun 16, 2018', 'Jun 15, 2018',\n",
       "       'Jun 14, 2018', 'Jun 13, 2018',\n",
       "       ...\n",
       "       'May 07, 2013', 'May 06, 2013', 'May 05, 2013', 'May 04, 2013',\n",
       "       'May 03, 2013', 'May 02, 2013', 'May 01, 2013', 'Apr 30, 2013',\n",
       "       'Apr 29, 2013', 'Apr 28, 2013'],\n",
       "      dtype='object', name='Date', length=1882)"
      ]
     },
     "execution_count": 15,
     "metadata": {},
     "output_type": "execute_result"
    }
   ],
   "source": [
    "df.index"
   ]
  },
  {
   "cell_type": "code",
   "execution_count": 19,
   "metadata": {},
   "outputs": [],
   "source": [
    "df.index = pd.to_datetime(df.index)"
   ]
  },
  {
   "cell_type": "code",
   "execution_count": 20,
   "metadata": {},
   "outputs": [
    {
     "data": {
      "text/html": [
       "<div>\n",
       "<style scoped>\n",
       "    .dataframe tbody tr th:only-of-type {\n",
       "        vertical-align: middle;\n",
       "    }\n",
       "\n",
       "    .dataframe tbody tr th {\n",
       "        vertical-align: top;\n",
       "    }\n",
       "\n",
       "    .dataframe thead th {\n",
       "        text-align: right;\n",
       "    }\n",
       "</style>\n",
       "<table border=\"1\" class=\"dataframe\">\n",
       "  <thead>\n",
       "    <tr style=\"text-align: right;\">\n",
       "      <th></th>\n",
       "      <th>Open</th>\n",
       "      <th>High</th>\n",
       "      <th>Low</th>\n",
       "      <th>Close</th>\n",
       "      <th>Volume</th>\n",
       "      <th>Market Cap</th>\n",
       "    </tr>\n",
       "    <tr>\n",
       "      <th>Date</th>\n",
       "      <th></th>\n",
       "      <th></th>\n",
       "      <th></th>\n",
       "      <th></th>\n",
       "      <th></th>\n",
       "      <th></th>\n",
       "    </tr>\n",
       "  </thead>\n",
       "  <tbody>\n",
       "    <tr>\n",
       "      <th>2018-06-22</th>\n",
       "      <td>6,737.88</td>\n",
       "      <td>6,747.08</td>\n",
       "      <td>6,006.60</td>\n",
       "      <td>6,083.69</td>\n",
       "      <td>5,079,810,000</td>\n",
       "      <td>115,269,000,000</td>\n",
       "    </tr>\n",
       "    <tr>\n",
       "      <th>2018-06-21</th>\n",
       "      <td>6,780.09</td>\n",
       "      <td>6,810.94</td>\n",
       "      <td>6,715.17</td>\n",
       "      <td>6,729.74</td>\n",
       "      <td>3,529,130,000</td>\n",
       "      <td>115,977,000,000</td>\n",
       "    </tr>\n",
       "    <tr>\n",
       "      <th>2018-06-20</th>\n",
       "      <td>6,770.76</td>\n",
       "      <td>6,821.56</td>\n",
       "      <td>6,611.88</td>\n",
       "      <td>6,776.55</td>\n",
       "      <td>3,888,640,000</td>\n",
       "      <td>115,804,000,000</td>\n",
       "    </tr>\n",
       "    <tr>\n",
       "      <th>2018-06-19</th>\n",
       "      <td>6,742.39</td>\n",
       "      <td>6,822.50</td>\n",
       "      <td>6,709.92</td>\n",
       "      <td>6,769.94</td>\n",
       "      <td>4,057,030,000</td>\n",
       "      <td>115,306,000,000</td>\n",
       "    </tr>\n",
       "    <tr>\n",
       "      <th>2018-06-18</th>\n",
       "      <td>6,510.07</td>\n",
       "      <td>6,781.14</td>\n",
       "      <td>6,446.68</td>\n",
       "      <td>6,734.82</td>\n",
       "      <td>4,039,200,000</td>\n",
       "      <td>111,319,000,000</td>\n",
       "    </tr>\n",
       "  </tbody>\n",
       "</table>\n",
       "</div>"
      ],
      "text/plain": [
       "                          Open           High            Low          Close  \\\n",
       "Date                                                                          \n",
       "2018-06-22            6,737.88       6,747.08       6,006.60       6,083.69   \n",
       "2018-06-21            6,780.09       6,810.94       6,715.17       6,729.74   \n",
       "2018-06-20            6,770.76       6,821.56       6,611.88       6,776.55   \n",
       "2018-06-19            6,742.39       6,822.50       6,709.92       6,769.94   \n",
       "2018-06-18            6,510.07       6,781.14       6,446.68       6,734.82   \n",
       "\n",
       "                        Volume              Market Cap  \n",
       "Date                                                    \n",
       "2018-06-22       5,079,810,000         115,269,000,000  \n",
       "2018-06-21       3,529,130,000         115,977,000,000  \n",
       "2018-06-20       3,888,640,000         115,804,000,000  \n",
       "2018-06-19       4,057,030,000         115,306,000,000  \n",
       "2018-06-18       4,039,200,000         111,319,000,000  "
      ]
     },
     "execution_count": 20,
     "metadata": {},
     "output_type": "execute_result"
    }
   ],
   "source": [
    "df.head()"
   ]
  },
  {
   "cell_type": "code",
   "execution_count": 21,
   "metadata": {},
   "outputs": [
    {
     "data": {
      "text/html": [
       "<div>\n",
       "<style scoped>\n",
       "    .dataframe tbody tr th:only-of-type {\n",
       "        vertical-align: middle;\n",
       "    }\n",
       "\n",
       "    .dataframe tbody tr th {\n",
       "        vertical-align: top;\n",
       "    }\n",
       "\n",
       "    .dataframe thead th {\n",
       "        text-align: right;\n",
       "    }\n",
       "</style>\n",
       "<table border=\"1\" class=\"dataframe\">\n",
       "  <thead>\n",
       "    <tr style=\"text-align: right;\">\n",
       "      <th></th>\n",
       "      <th>Open</th>\n",
       "      <th>High</th>\n",
       "      <th>Low</th>\n",
       "      <th>Close</th>\n",
       "      <th>Volume</th>\n",
       "      <th>Market Cap</th>\n",
       "    </tr>\n",
       "    <tr>\n",
       "      <th>Date</th>\n",
       "      <th></th>\n",
       "      <th></th>\n",
       "      <th></th>\n",
       "      <th></th>\n",
       "      <th></th>\n",
       "      <th></th>\n",
       "    </tr>\n",
       "  </thead>\n",
       "  <tbody>\n",
       "    <tr>\n",
       "      <th>2018-06-22</th>\n",
       "      <td>6,737.88</td>\n",
       "      <td>6,747.08</td>\n",
       "      <td>6,006.60</td>\n",
       "      <td>6,083.69</td>\n",
       "      <td>5,079,810,000</td>\n",
       "      <td>115,269,000,000</td>\n",
       "    </tr>\n",
       "  </tbody>\n",
       "</table>\n",
       "</div>"
      ],
      "text/plain": [
       "                          Open           High            Low          Close  \\\n",
       "Date                                                                          \n",
       "2018-06-22            6,737.88       6,747.08       6,006.60       6,083.69   \n",
       "\n",
       "                        Volume              Market Cap  \n",
       "Date                                                    \n",
       "2018-06-22       5,079,810,000         115,269,000,000  "
      ]
     },
     "execution_count": 21,
     "metadata": {},
     "output_type": "execute_result"
    }
   ],
   "source": [
    "df['2018-06-22']"
   ]
  },
  {
   "cell_type": "code",
   "execution_count": null,
   "metadata": {},
   "outputs": [],
   "source": []
  },
  {
   "cell_type": "code",
   "execution_count": null,
   "metadata": {
    "collapsed": true
   },
   "outputs": [],
   "source": []
  }
 ],
 "metadata": {
  "kernelspec": {
   "display_name": "Python 3",
   "language": "python",
   "name": "python3"
  },
  "language_info": {
   "codemirror_mode": {
    "name": "ipython",
    "version": 3
   },
   "file_extension": ".py",
   "mimetype": "text/x-python",
   "name": "python",
   "nbconvert_exporter": "python",
   "pygments_lexer": "ipython3",
   "version": "3.6.1"
  }
 },
 "nbformat": 4,
 "nbformat_minor": 2
}
